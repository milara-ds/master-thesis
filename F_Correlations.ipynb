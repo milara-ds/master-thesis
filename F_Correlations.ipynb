{
 "cells": [
  {
   "cell_type": "markdown",
   "metadata": {},
   "source": [
    "# **Final: Removing Correlations**\n",
    "Used to clean up the datasets taking into account the correlations(spearman) between variables\n"
   ]
  },
  {
   "cell_type": "code",
   "execution_count": 1,
   "metadata": {},
   "outputs": [],
   "source": [
    "import pandas as pd\n",
    "import numpy as np\n",
    "import matplotlib.pyplot as plt\n",
    "import seaborn as sns\n",
    "from sklearn.preprocessing import StandardScaler"
   ]
  },
  {
   "cell_type": "markdown",
   "metadata": {},
   "source": [
    "# 1.- Read the dataframes"
   ]
  },
  {
   "cell_type": "code",
   "execution_count": 136,
   "metadata": {},
   "outputs": [],
   "source": [
    "dflist_areas = []\n",
    "areas = ['ingenieria', 'negocios','estudioscreativos', 'salud', 'cienciassociales', 'ambienteconstruido']\n",
    "\n",
    "for elem in areas:\n",
    "    df_area = pd.read_csv(\"C:/Users/Milara/...\"+elem+\"_v1.csv\",encoding=\"ISO-8859-1\")\n",
    "    dflist_areas.append(df_area)"
   ]
  },
  {
   "cell_type": "markdown",
   "metadata": {},
   "source": [
    "# 2.- Create the functions to get the subsets of correlations and to remove variables"
   ]
  },
  {
   "cell_type": "code",
   "execution_count": 120,
   "metadata": {},
   "outputs": [],
   "source": [
    "# Pair of combinations\n",
    "import itertools\n",
    "\n",
    "\n",
    "def get_subsetCorr(area_temp):\n",
    "    \"\"\"\n",
    "    Function that computes the correlation between pairs of variables\n",
    "    Input : dataframe to be analyzed\n",
    "    Output: highest correlation value and pair \n",
    "    \n",
    "    Note: df with no TARGET VARIABLE  (input)\n",
    "    \"\"\"\n",
    "    columns = area_temp.columns # Get the list of variables\n",
    "    list_corr = [] #Empty list to store the correlation for each pair of variables\n",
    "    list_subset = [] #Empty list to store the subsets for each pair of variables\n",
    "\n",
    "    for subset in itertools.combinations(columns, 2):#create the combinations nC2, where n is the number of variables\n",
    "        area_in = area_temp[[subset[0],subset[1]]] # Get the df only for the pair of variables\n",
    "        list_corr.append(np.squeeze(area_in.corr(method = \"spearman\").loc[[area_in.columns[0]],[area_in.columns[1]]].values))\n",
    "        list_subset.append(subset) \n",
    "\n",
    "\n",
    "    df_results = pd.DataFrame({'CoefCorrelation': list_corr,'Subset':list_subset})\n",
    "    df_results.sort_values(by='CoefCorrelation', ascending = False, inplace = True)\n",
    "    \n",
    "    return(df_results['CoefCorrelation'].iloc[0], df_results['Subset'].iloc[0])\n",
    "    \n"
   ]
  },
  {
   "cell_type": "code",
   "execution_count": 121,
   "metadata": {},
   "outputs": [],
   "source": [
    "def remove_lessCorrVar(area_df,subset):\n",
    "    \"\"\"\n",
    "    Function that deletes the variable less correlated to the target variable\n",
    "    Input:  dataframe with all the variables, subset with results of the highest correlation pair\n",
    "    Output: dataframe with the variable removed\n",
    "    \n",
    "    Note: df with TARGET VARIABLE (input)\n",
    "    \"\"\"\n",
    "    area_temp = area_df.copy()\n",
    "    \n",
    "    a = np.squeeze(area_temp[[subset[0],'For_Prom']].corr(method = \"spearman\").loc[[subset[0]],['For_Prom']].values)\n",
    "    b = np.squeeze(area_temp[[subset[1],'For_Prom']].corr(method = \"spearman\").loc[[subset[1]],['For_Prom']].values)\n",
    "\n",
    "    if a > b : \n",
    "        df_out = area_temp.drop(subset[1], axis = 1)\n",
    "        removed = subset[1]\n",
    "    elif b > a : \n",
    "        df_out = area_temp.drop(subset[0], axis = 1)\n",
    "        removed = subset[0]\n",
    "    else:\n",
    "        rand = np.random.random()\n",
    "        if rand > 0.5 :\n",
    "            df_out = area_temp.drop(subset[1], axis = 1)\n",
    "            removed = subset[1]\n",
    "        else : \n",
    "            df_out = area_temp.drop(subset[0], axis = 1)\n",
    "            removed = subset[0]\n",
    "            \n",
    "    return df_out, removed"
   ]
  },
  {
   "cell_type": "markdown",
   "metadata": {},
   "source": [
    "# 3.- Create the function to clean correlated variables under same database"
   ]
  },
  {
   "cell_type": "code",
   "execution_count": 197,
   "metadata": {},
   "outputs": [],
   "source": [
    "def clean_corrDB(df):\n",
    "    \"\"\"\n",
    "    Function that receives a dataframe and cleans the correlated variables\n",
    "    Default to remove variable with correlation above 0.5\n",
    "    in : df to clean, with target variable\n",
    "    out: df cleaned\n",
    "    \"\"\"\n",
    "    df_temp = df.copy()\n",
    "    flag = True\n",
    "    while(flag):\n",
    "\n",
    "        topCorr, sub_Corr = get_subsetCorr(df_temp.drop('For_Prom', axis = 1)) # compute the correlation of subsets\n",
    "        #print(topCorr,sub_Corr, \"Highest Correlation\")\n",
    "\n",
    "        if topCorr > 0.5: #moderate correlation -> remove correlated variables above 0.5 \n",
    "            df_temp, removed = remove_lessCorrVar(df_temp,sub_Corr) # Remove the less correlated variable\n",
    "            #print(removed, \"Variable Removed\")\n",
    "\n",
    "            if df_temp.shape[1] <= 2 :\n",
    "                flag = False\n",
    "        else:\n",
    "            flag = False\n",
    "\n",
    "    return (df_temp.drop('For_Prom', axis = 1))"
   ]
  },
  {
   "cell_type": "markdown",
   "metadata": {},
   "source": [
    "# 5. Function that runs over the 4 datasets of each area"
   ]
  },
  {
   "cell_type": "code",
   "execution_count": 140,
   "metadata": {},
   "outputs": [],
   "source": [
    "def keep_var(prefix,lista):\n",
    "    \"\"\"\n",
    "    Function that only keeps the variables with the same prefix\n",
    "    in: prefix and list of names\n",
    "    out: cleaned list\n",
    "    \"\"\"\n",
    "    res = []\n",
    "    #res.append(lista[0])\n",
    "    for elem in prefix:\n",
    "        for i in range(len(lista)):\n",
    "            value = lista[i].find(elem)\n",
    "            if value >= 0:\n",
    "                res.append(lista[i])\n",
    "    #res.append('For_Prom')\n",
    "    return res"
   ]
  },
  {
   "cell_type": "code",
   "execution_count": 165,
   "metadata": {},
   "outputs": [],
   "source": [
    "def clean_area(df):\n",
    "    \"\"\"\n",
    "    Function to run over the whole dataset to clean the correlated variables depending on each dataset\n",
    "    in: dataframe of an area\n",
    "    out: dataframe of the area but with variable reduction\n",
    "    \"\"\"\n",
    "    area_temp = df.copy()\n",
    "    \n",
    "    list_df = []\n",
    "    list_db = ['_ord','_n','Eva_ini','Puntaje']\n",
    "\n",
    "    for elem in list_db:\n",
    "        listRed = keep_var([elem,'For_Prom'],area_temp.columns)\n",
    "        df_touse = area_temp[listRed]\n",
    "        df_cleaned = clean_corrDB(df_touse)\n",
    "        list_df.append(df_cleaned)\n",
    "\n",
    "    list_df.append(area_temp[['CalPromedioPrepa','For_Prom']])\n",
    "    \n",
    "    return(pd.concat(list_df, axis = 1)) "
   ]
  },
  {
   "cell_type": "markdown",
   "metadata": {},
   "source": [
    "# 6. Final Loop to clean all the areas"
   ]
  },
  {
   "cell_type": "code",
   "execution_count": 201,
   "metadata": {},
   "outputs": [
    {
     "name": "stdout",
     "output_type": "stream",
     "text": [
      "(1862, 43) Before  ingenieria\n",
      "(1862, 24) After  ingenieria\n",
      "(1084, 41) Before  negocios\n",
      "(1084, 28) After  negocios\n",
      "(220, 43) Before  estudioscreativos\n",
      "(220, 29) After  estudioscreativos\n",
      "(117, 38) Before  salud\n",
      "(117, 25) After  salud\n",
      "(209, 41) Before  cienciassociales\n",
      "(209, 23) After  cienciassociales\n",
      "(120, 43) Before  ambienteconstruido\n",
      "(120, 25) After  ambienteconstruido\n"
     ]
    }
   ],
   "source": [
    "\n",
    "for i in range(len(dflist_areas)):\n",
    "    print(dflist_areas[i].shape, \"Before \", areas[i])\n",
    "    df_out = clean_area(dflist_areas[i])\n",
    "    print(df_out.shape, \"After \", areas[i])\n",
    "    df_out.to_csv(\"C:/Users/Milara/..._\"+areas[i]+\"_v1.csv\", encoding=\"ISO-8859-1\", index = False) #thus it is necessary to save it as the usual type of coding"
   ]
  },
  {
   "cell_type": "code",
   "execution_count": null,
   "metadata": {},
   "outputs": [],
   "source": []
  }
 ],
 "metadata": {
  "kernelspec": {
   "display_name": "Python 3",
   "language": "python",
   "name": "python3"
  },
  "language_info": {
   "codemirror_mode": {
    "name": "ipython",
    "version": 3
   },
   "file_extension": ".py",
   "mimetype": "text/x-python",
   "name": "python",
   "nbconvert_exporter": "python",
   "pygments_lexer": "ipython3",
   "version": "3.7.10"
  }
 },
 "nbformat": 4,
 "nbformat_minor": 4
}
